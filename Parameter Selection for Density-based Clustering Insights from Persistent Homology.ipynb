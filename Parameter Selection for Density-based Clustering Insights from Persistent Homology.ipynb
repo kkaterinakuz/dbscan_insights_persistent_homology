{
  "cells": [
    {
      "cell_type": "markdown",
      "metadata": {
        "id": "-_MqIfw-TcCm"
      },
      "source": [
        "#### Load dependencies"
      ]
    },
    {
      "cell_type": "code",
      "execution_count": null,
      "metadata": {
        "id": "A0ex4ouBctZu"
      },
      "outputs": [],
      "source": [
        "import numpy as np\n",
        "import pandas as pd\n",
        "import math\n",
        "\n",
        "from matplotlib import pyplot as plt\n",
        "import seaborn as sns\n",
        "\n",
        "from sklearn.neighbors import NearestNeighbors, KDTree\n",
        "from sklearn.cluster import dbscan\n",
        "from sklearn.neighbors import kneighbors_graph\n",
        "\n",
        "from scipy.spatial.distance import pdist, squareform\n",
        "from sklearn.metrics.cluster import normalized_mutual_info_score, adjusted_mutual_info_score, adjusted_rand_score\n",
        "from scipy.sparse.csgraph import connected_components\n",
        "\n",
        "import networkx as nx\n",
        "import csv\n",
        "from collections import Counter\n",
        "from scipy.stats import gaussian_kde\n",
        "\n",
        "import os"
      ]
    },
    {
      "cell_type": "code",
      "execution_count": null,
      "metadata": {
        "id": "C7jDkfOT1_xx"
      },
      "outputs": [],
      "source": [
        "# For dc-distance\n",
        "from scipy.linalg import expm\n",
        "import itertools\n",
        "import numba"
      ]
    },
    {
      "cell_type": "markdown",
      "metadata": {
        "id": "98IPn7ciUXI4"
      },
      "source": [
        "#### Functions"
      ]
    },
    {
      "cell_type": "markdown",
      "metadata": {
        "id": "XUqzIRq7Ucsv"
      },
      "source": [
        "##### Data processing"
      ]
    },
    {
      "cell_type": "code",
      "execution_count": null,
      "metadata": {
        "id": "83KqqFxuo_Iq"
      },
      "outputs": [],
      "source": [
        "def read_data_npy(file, withoutnoise=False):\n",
        "  data = np.load(file)\n",
        "  n, d = data.shape\n",
        "\n",
        "  if withoutnoise:\n",
        "    data_nonoise = data[data[:, -1] != -1]\n",
        "  else:\n",
        "    data_nonoise = data\n",
        "\n",
        "  X = data_nonoise[:, :d-1]\n",
        "  y = data_nonoise[:, d-1]\n",
        "  n, d = X.shape\n",
        "\n",
        "  return X, y, n, d"
      ]
    },
    {
      "cell_type": "code",
      "execution_count": null,
      "metadata": {
        "id": "i6k9kzdwgblq"
      },
      "outputs": [],
      "source": [
        "def plot_data_2D(X, axis1=0, axis2=1, title='DENSIRED'):\n",
        "  plt.figure(figsize=(8,5))\n",
        "  plt.scatter(X[:,int(axis1)], X[:,int(axis2)])\n",
        "  plt.title(title)\n",
        "  plt.show()"
      ]
    },
    {
      "cell_type": "code",
      "execution_count": null,
      "metadata": {
        "id": "GVJ3GLuLlf0x"
      },
      "outputs": [],
      "source": [
        "# \"elbow\" method for choosing eps\n",
        "def find_eps(data, k=2, title='Data'):\n",
        "\n",
        "    neigh = NearestNeighbors(n_neighbors=k)\n",
        "    nbrs = neigh.fit(data)\n",
        "    distances, indices = nbrs.kneighbors(data)\n",
        "    distances = np.sort(distances, axis=0)\n",
        "    distances = distances[:, 1]\n",
        "\n",
        "    fig = plt.figure(figsize=(8, 5))\n",
        "    plt.plot(distances)\n",
        "    plt.ylabel(\"eps\")\n",
        "    plt.title(title)\n",
        "    plt.grid()\n",
        "    plt.show()\n",
        "    fig.savefig(title)"
      ]
    },
    {
      "cell_type": "markdown",
      "metadata": {
        "id": "VAwp69ohW6Ng"
      },
      "source": [
        "##### Distances"
      ]
    },
    {
      "cell_type": "code",
      "execution_count": null,
      "metadata": {
        "id": "L3hi7qcM11m1"
      },
      "outputs": [],
      "source": [
        "# https://github.com/PhilJahn/DENSIRED/blob/main/distance_metric.py\n",
        "class Component:\n",
        "    def __init__(self, nodes, comp_id):\n",
        "        self.nodes = set(nodes)\n",
        "        self.comp_id = comp_id\n",
        "\n",
        "def merge_components(c_i, c_j):\n",
        "    merged_list = c_i.nodes.union(c_j.nodes)\n",
        "    return Component(merged_list, c_i.comp_id)\n",
        "\n",
        "\n",
        "def get_reach_dists(D, min_points, num_points):\n",
        "    # Get reachability for each point with respect to min_points parameter\n",
        "    reach_dists = np.sort(D, axis=1)\n",
        "    reach_dists = reach_dists[:, min_points - 1]\n",
        "\n",
        "    # Make into an NxN matrix\n",
        "    reach_dists_i, reach_dists_j = np.meshgrid(reach_dists, reach_dists)\n",
        "\n",
        "    # Take max of reach_i, D_ij, reach_j\n",
        "    D = np.stack([D, reach_dists_i, reach_dists_j], axis=-1)\n",
        "    D = np.max(D, axis=-1)\n",
        "\n",
        "    # Zero out the diagonal so that it's a distance metric\n",
        "    diag_mask = np.ones([num_points, num_points]) - np.eye(num_points)\n",
        "    D *= diag_mask\n",
        "    return D\n",
        "\n",
        "def get_dc_dist_matrix(points, min_points=5, **kwargs):\n",
        "    \"\"\"\n",
        "    We define the distance from x_i to x_j as min(max(P(x_i, x_j))), where\n",
        "        - P(x_i, x_j) is any path from x_i to x_j\n",
        "        - max(P(x_i, x_j)) is the largest edge weight in the path\n",
        "        - min(max(P(x_i, x_j))) is the smallest largest edge weight\n",
        "    \"\"\"\n",
        "    @numba.njit(fastmath=True, parallel=True)\n",
        "    def get_dist_matrix(points, D, dim, num_points):\n",
        "        for i in numba.prange(num_points):\n",
        "            x = points[i]\n",
        "            for j in range(i+1, num_points):\n",
        "                y = points[j]\n",
        "                dist = 0\n",
        "                for d in range(dim):\n",
        "                    dist += (x[d] - y[d]) ** 2\n",
        "                dist = np.sqrt(dist)\n",
        "                D[i, j] = dist\n",
        "                D[j, i] = dist\n",
        "\n",
        "        return D\n",
        "\n",
        "    num_points = int(points.shape[0])\n",
        "    dim = int(points.shape[1])\n",
        "    density_connections = np.zeros([num_points, num_points])\n",
        "    D = np.zeros([num_points, num_points])\n",
        "    D = get_dist_matrix(points, D, dim, num_points)\n",
        "    if min_points > 1:\n",
        "        if min_points > num_points:\n",
        "            raise ValueError('Min points cannot exceed the size of the dataset')\n",
        "        D = get_reach_dists(D, min_points, num_points)\n",
        "\n",
        "    flat_D = np.reshape(D, [num_points * num_points])\n",
        "    argsort_inds = np.argsort(flat_D)\n",
        "\n",
        "    component_dict = {i: Component([i], i) for i in range(num_points)}\n",
        "    neighbor_dists = [[] for i in range(num_points)]\n",
        "    neighbor_inds = [[] for i in range(num_points)]\n",
        "    max_comp_size = 1\n",
        "    for index in argsort_inds:\n",
        "        i = int(index / num_points)\n",
        "        j = index % num_points\n",
        "        if component_dict[i].comp_id != component_dict[j].comp_id:\n",
        "            epsilon = D[i, j]\n",
        "            for node_i in component_dict[i].nodes:\n",
        "                for node_j in component_dict[j].nodes:\n",
        "                    density_connections[node_i, node_j] = epsilon\n",
        "                    density_connections[node_j, node_i] = epsilon\n",
        "\n",
        "            merged_component = merge_components(component_dict[i], component_dict[j])\n",
        "            for node in merged_component.nodes:\n",
        "                component_dict[node] = merged_component\n",
        "            size_of_component = len(component_dict[i].nodes)\n",
        "            if size_of_component > max_comp_size:\n",
        "                max_comp_size = size_of_component\n",
        "        if max_comp_size == num_points:\n",
        "            break\n",
        "\n",
        "    return np.array(density_connections)"
      ]
    },
    {
      "cell_type": "markdown",
      "metadata": {
        "id": "qeQfa0G5f_Kd"
      },
      "source": [
        "##### Create graph"
      ]
    },
    {
      "cell_type": "code",
      "execution_count": null,
      "metadata": {
        "id": "j9MmIxIdY7ja"
      },
      "outputs": [],
      "source": [
        "# Create the epsilon graph based on dc-distance\n",
        "def dc_graph(X, k, eps):\n",
        "    n, d = X.shape\n",
        "\n",
        "    # Get the density connections matrix\n",
        "    density_connections = get_dc_dist_matrix(X, k)\n",
        "\n",
        "    G = nx.Graph()\n",
        "    G.add_nodes_from(range(n))\n",
        "\n",
        "    for i in range(n):\n",
        "        for j in range(i+1, n):\n",
        "            if density_connections[i, j] <= eps:\n",
        "                G.add_edge(i, j)\n",
        "\n",
        "\n",
        "    return G"
      ]
    },
    {
      "cell_type": "code",
      "execution_count": null,
      "metadata": {
        "id": "OkUlBxxYru3V"
      },
      "outputs": [],
      "source": [
        "def plot_eps_graph(X, G, dbscan_labels):\n",
        "    plt.figure(figsize=(10, 8))\n",
        "    pos = {i: X[i, :2] for i in G.nodes}\n",
        "    node_colors = [dbscan_labels[i] for i in G.nodes]\n",
        "\n",
        "    #https://memgraph.github.io/networkx-guide/visualization/basics/\n",
        "    nx.draw(G,\n",
        "            pos=pos,\n",
        "            node_color=node_colors, node_size=10, cmap=plt.get_cmap('tab20'),\n",
        "            edge_color='grey', style='-', width=0.3)\n",
        "\n",
        "    plt.title('Epsilon Neighborhood Graph')\n",
        "    plt.grid(True)\n",
        "    plt.show()"
      ]
    },
    {
      "cell_type": "markdown",
      "metadata": {
        "id": "9ONBWr-jXBuk"
      },
      "source": [
        "##### Parameters"
      ]
    },
    {
      "cell_type": "code",
      "execution_count": null,
      "metadata": {
        "id": "jAVa2ao90DHy"
      },
      "outputs": [],
      "source": [
        "def def_minpts(sep=20, end=101):\n",
        "  return list(range(2, sep)) + list(range(sep, end, 5))"
      ]
    },
    {
      "cell_type": "code",
      "execution_count": null,
      "metadata": {
        "id": "d-WoXSal0hWj"
      },
      "outputs": [],
      "source": [
        "def def_eps(minPts):\n",
        "  eps_values = []\n",
        "\n",
        "  for p in minPts:\n",
        "    matrix=get_dc_dist_matrix(X,p)\n",
        "    unique_values = np.round(np.unique(matrix),2)\n",
        "    eps_values=np.concatenate((eps_values, unique_values))\n",
        "\n",
        "  eps_values = np.unique(eps_values)\n",
        "  if 0 in eps_values:\n",
        "    eps_values = eps_values[1:]\n",
        "\n",
        "  return eps_values"
      ]
    },
    {
      "cell_type": "code",
      "execution_count": null,
      "metadata": {
        "id": "ZDizG84rk7Gq"
      },
      "outputs": [],
      "source": [
        "# Computes the number of connected components in the graph\n",
        "def cnt_connected_components(G, minPts=1, all=False):\n",
        "\n",
        "  ''' If all is True, the number of connected components includes noise.\n",
        "      If all is False, the number of connected components only includes those components with a size greater than minPts.'''\n",
        "\n",
        "  connected_components = nx.connected_components(G)\n",
        "\n",
        "  if all==True:\n",
        "    return len([c for c in connected_components])\n",
        "\n",
        "  filtered_components = [c for c in connected_components if len(c) > minPts]\n",
        "\n",
        "  return len(filtered_components), filtered_components"
      ]
    },
    {
      "cell_type": "code",
      "execution_count": null,
      "metadata": {
        "id": "A3zUsxCNtkFc"
      },
      "outputs": [],
      "source": [
        "# Computes the number of cycles in the graph\n",
        "# It's possiable to count cycles with different length\n",
        "def cnt_simple_cycles(G, length_bound=3):\n",
        "    cycles = list(nx.simple_cycles(G, length_bound=length_bound))\n",
        "    return len(cycles)"
      ]
    },
    {
      "cell_type": "code",
      "execution_count": null,
      "metadata": {
        "id": "_MbIyKnBgbzI"
      },
      "outputs": [],
      "source": [
        "# Computes the number of cycles in the graph using the matrix\n",
        "# https://math.stackexchange.com/questions/4337736/number-of-k-cycles-from-an-adjacency-matrix-of-a-graph\n",
        "def cnt_loops(G, cnt_length=3):\n",
        "  A = nx.to_numpy_array(G, nodelist=sorted(G.nodes()))\n",
        "\n",
        "  n = A.shape[0]\n",
        "  k = cnt_length\n",
        "  eigenvalues = np.linalg.eigvals(A)\n",
        "  trace = np.sum(eigenvalues)\n",
        "\n",
        "  A_k = np.linalg.matrix_power(A, k)\n",
        "  trace = np.trace(A_k)\n",
        "  cycle_cnt = trace // 6\n",
        "\n",
        "  return cycle_cnt"
      ]
    },
    {
      "cell_type": "code",
      "execution_count": null,
      "metadata": {
        "id": "q5b1ehddQQYf"
      },
      "outputs": [],
      "source": [
        "def components_labels(components, X, toplot=True):\n",
        "  component_labels = np.zeros(len(X), dtype=int)\n",
        "  for label, component in enumerate(components):\n",
        "    for node in component:\n",
        "      component_labels[node] = label+1\n",
        "\n",
        "  if toplot:\n",
        "    component_labels = [-1 if x == 0 else x for x in component_labels]\n",
        "  else:\n",
        "    counter = -1\n",
        "    for i in range(len(component_labels)):\n",
        "      if component_labels[i] == 0:\n",
        "        component_labels[i] = counter\n",
        "        counter = counter - 1\n",
        "\n",
        "  return component_labels"
      ]
    },
    {
      "cell_type": "code",
      "execution_count": null,
      "metadata": {
        "id": "BkTOOtZmeDva"
      },
      "outputs": [],
      "source": [
        "def cnt_nmi(labels1, labels2):\n",
        "\n",
        "  if len(labels1) == len(labels2):\n",
        "    nmi = normalized_mutual_info_score(labels2, labels1)\n",
        "  else:\n",
        "    nmi = np.nan\n",
        "\n",
        "  return nmi"
      ]
    },
    {
      "cell_type": "code",
      "execution_count": null,
      "metadata": {
        "id": "JBQbCg4pmuqj"
      },
      "outputs": [],
      "source": [
        "def cnt_ami(labels1, labels2):\n",
        "    if len(labels1) == len(labels2):\n",
        "        ami = adjusted_mutual_info_score(labels1, labels2)\n",
        "    else:\n",
        "        ami = np.nan\n",
        "\n",
        "    return ami"
      ]
    },
    {
      "cell_type": "code",
      "execution_count": null,
      "metadata": {
        "id": "qmPA7NC4mwXt"
      },
      "outputs": [],
      "source": [
        "def cnt_ari(labels1, labels2):\n",
        "    if len(labels1) == len(labels2):\n",
        "        ari = adjusted_rand_score(labels1, labels2)\n",
        "    else:\n",
        "        ari = np.nan\n",
        "\n",
        "    return ari"
      ]
    },
    {
      "cell_type": "code",
      "execution_count": null,
      "metadata": {
        "id": "4e8Vsg0bqkQZ"
      },
      "outputs": [],
      "source": [
        "# Compute the number of cycles in each connected component in the graph\n",
        "#   and devided by the number of edges in this connected component\n",
        "def cnt_loops_norm_by_edges_in_subgraphs(G):\n",
        "  cc, components = cnt_connected_components(G)\n",
        "  if cc == 0:\n",
        "    return 0, 0\n",
        "\n",
        "  subgraphs = [G.subgraph(comp).copy() for comp in components]\n",
        "\n",
        "  s = 0\n",
        "  for i, subgraph in enumerate(subgraphs):\n",
        "    num_edges = subgraph.number_of_edges()\n",
        "    cycles = cnt_loops(subgraph)\n",
        "\n",
        "    if num_edges == 0:\n",
        "      s += 0\n",
        "    else:\n",
        "      s = s + cycles/num_edges\n",
        "\n",
        "  return round(s), round(s/cc)"
      ]
    },
    {
      "cell_type": "code",
      "execution_count": null,
      "metadata": {
        "id": "0cfTiH80uaQZ"
      },
      "outputs": [],
      "source": [
        "# Compute the average degree of the nodes\n",
        "def cnt_avg_degree(G):\n",
        "  cc, components = cnt_connected_components(G)\n",
        "  if cc == 0:\n",
        "    return 0\n",
        "\n",
        "  subgraphs = [G.subgraph(comp).copy() for comp in components]\n",
        "\n",
        "  s = 0\n",
        "  for i, subgraph in enumerate(subgraphs):\n",
        "    num_nodes = subgraph.number_of_nodes()\n",
        "    average_degree = sum(dict(subgraph.degree()).values()) / num_nodes\n",
        "    s += average_degree\n",
        "\n",
        "  return round(s/cc)"
      ]
    },
    {
      "cell_type": "code",
      "execution_count": null,
      "metadata": {
        "id": "AIK4TNS5u7I-"
      },
      "outputs": [],
      "source": [
        "# Compute the maximum degree of the graph\n",
        "def cnt_max_degree(G):\n",
        "  cc, components = cnt_connected_components(G)\n",
        "  if cc == 0:\n",
        "    return 0\n",
        "\n",
        "  subgraphs = [G.subgraph(comp).copy() for comp in components]\n",
        "  global_max_degree = 0\n",
        "  for i, subgraph in enumerate(subgraphs):\n",
        "    max_degree = max(dict(subgraph.degree()).values())\n",
        "    if max_degree > global_max_degree:\n",
        "      global_max_degree = max_degree\n",
        "\n",
        "  return global_max_degree"
      ]
    },
    {
      "cell_type": "code",
      "execution_count": null,
      "metadata": {
        "id": "H4Xtr_T3vOEP"
      },
      "outputs": [],
      "source": [
        "# Compute the MST diameter\n",
        "def cnt_mst_diameter(G):\n",
        "   cc, components = cnt_connected_components(G)\n",
        "   if cc == 0:\n",
        "    return 0, 0, 0\n",
        "\n",
        "   subgraphs = [G.subgraph(comp).copy() for comp in components]\n",
        "\n",
        "   mst_diameter = []\n",
        "   for i, subgraph in enumerate(subgraphs):\n",
        "    mst = nx.minimum_spanning_tree(subgraph)\n",
        "    mst_diameter.append(nx.diameter(mst) if nx.is_connected(mst) else float('inf'))\n",
        "\n",
        "   return sum(mst_diameter), round(sum(mst_diameter)/cc), max(mst_diameter)"
      ]
    },
    {
      "cell_type": "code",
      "execution_count": null,
      "metadata": {
        "id": "9A9UYfENvwv7"
      },
      "outputs": [],
      "source": [
        "# Compute the graph diameter\n",
        "def cnt_graph_diameter(G):\n",
        "   cc, components = cnt_connected_components(G)\n",
        "   if cc == 0:\n",
        "    return 0, 0, 0\n",
        "\n",
        "   subgraphs = [G.subgraph(comp).copy() for comp in components]\n",
        "\n",
        "   graph_diameter = []\n",
        "   for i, subgraph in enumerate(subgraphs):\n",
        "    graph_diameter.append(nx.diameter(subgraph) if nx.is_connected(subgraph) else float('inf'))\n",
        "\n",
        "   return sum(graph_diameter), round(sum(graph_diameter)/cc), max(graph_diameter)"
      ]
    },
    {
      "cell_type": "code",
      "execution_count": null,
      "metadata": {
        "id": "0YqVFe9k6K76"
      },
      "outputs": [],
      "source": [
        "def average_eps(arr, k=10):\n",
        "    result = []\n",
        "    n = len(arr)\n",
        "    tr = 0.01*k\n",
        "\n",
        "    for i in range(0, n, k):\n",
        "        group = arr[i:i+k]\n",
        "        result.append(np.mean(group))\n",
        "\n",
        "    return np.round(result,2)"
      ]
    },
    {
      "cell_type": "markdown",
      "metadata": {
        "id": "Fcq1cMz6cnEZ"
      },
      "source": [
        "##### Dataset processing"
      ]
    },
    {
      "cell_type": "code",
      "execution_count": null,
      "metadata": {
        "id": "Yk4_4H5ZKo6Z"
      },
      "outputs": [],
      "source": [
        "\n",
        "def cnt_parameters_dcdist_graph(X, y, minPts, eps_values, output_file='dcdist_results.csv'):\n",
        "  file_exists = os.path.isfile(output_file) and os.path.getsize(output_file) > 0\n",
        "  with open(output_file, mode='a', newline='') as file:\n",
        "    writer = csv.writer(file)\n",
        "\n",
        "    file.seek(0)\n",
        "    if not file_exists:\n",
        "      writer.writerow(['minPts', 'eps', 'num_connected_components', 'num_loops', 'nmi', 'ami', 'ari', 'cnt_loops_norm_by_edges', 'cnt_loops_norm_by_edges_comp', 'graph_labels'])\n",
        "\n",
        "\n",
        "    num_components=[]\n",
        "    num_loops =[]\n",
        "\n",
        "    nmi_values = []\n",
        "    ami_values = []\n",
        "    ari_values = []\n",
        "\n",
        "    num_loops_norm_by_edges = []\n",
        "    num_loops_norm_by_edges_comp = []\n",
        "    graph_labels = []\n",
        "\n",
        "\n",
        "    for p in minPts:\n",
        "      row_cc = []\n",
        "      row_loops=[]\n",
        "\n",
        "      row_nmi = []\n",
        "      row_ami = []\n",
        "      row_ari = []\n",
        "\n",
        "      row_num_loops_norm_by_edges = []\n",
        "      row_num_loops_norm_by_edges_comp = []\n",
        "      row_graph_labels = []\n",
        "\n",
        "      for e in eps_values:\n",
        "        epsilon_graph = dc_graph(X, p, e)\n",
        "\n",
        "        cc, components = cnt_connected_components(epsilon_graph)\n",
        "        row_cc.append(cc)\n",
        "\n",
        "        loops = cnt_loops(epsilon_graph)\n",
        "        row_loops.append(loops)\n",
        "\n",
        "        cnt_loops_norm_by_edges, cnt_loops_norm_by_edges_comp = cnt_loops_norm_by_edges_in_subgraphs(epsilon_graph)\n",
        "        row_num_loops_norm_by_edges.append(cnt_loops_norm_by_edges)\n",
        "        row_num_loops_norm_by_edges_comp.append(cnt_loops_norm_by_edges_comp)\n",
        "\n",
        "        component_labels = components_labels(components, X, toplot=False)\n",
        "        row_graph_labels.append(component_labels)\n",
        "\n",
        "        nmi = cnt_nmi(component_labels, y)\n",
        "        row_nmi.append(nmi)\n",
        "\n",
        "        ami = cnt_ami(component_labels, y)\n",
        "        row_ami.append(ami)\n",
        "\n",
        "        ari = cnt_ari(component_labels, y)\n",
        "        row_ari.append(ari)\n",
        "\n",
        "        writer.writerow([p, e, cc, loops, nmi, ami, ari,\n",
        "                         cnt_loops_norm_by_edges, cnt_loops_norm_by_edges_comp, component_labels])\n",
        "        file.flush()\n",
        "\n",
        "        print(p,e, cc, loops, nmi, ami, ari,\n",
        "              cnt_loops_norm_by_edges, cnt_loops_norm_by_edges_comp, len(component_labels))\n",
        "\n",
        "      num_components.append(row_cc)\n",
        "      num_loops.append(row_loops)\n",
        "\n",
        "      nmi_values.append(row_nmi)\n",
        "      ami_values.append(row_ami)\n",
        "      ari_values.append(row_ari)\n",
        "\n",
        "      num_loops_norm_by_edges.append(row_num_loops_norm_by_edges)\n",
        "      num_loops_norm_by_edges_comp.append(row_num_loops_norm_by_edges_comp)\n",
        "      graph_labels.append(row_graph_labels)\n",
        "\n",
        "  return num_components, num_loops, nmi_values, ami_values, ari_values, num_loops_norm_by_edges, num_loops_norm_by_edges_comp, graph_labels"
      ]
    },
    {
      "cell_type": "markdown",
      "metadata": {
        "id": "f4DptcEKmbPv"
      },
      "source": [
        "##### Analysis"
      ]
    },
    {
      "cell_type": "code",
      "execution_count": null,
      "metadata": {
        "id": "uhXCta-lET0H"
      },
      "outputs": [],
      "source": [
        "def plot_heatmaps_connectedcomponent(num_components, nmi_values, eps_values, minPts, percent=90, highlight=False, save=False, name = 'num_components_nmi.png'):\n",
        "  nmi_array = np.array(nmi_values)\n",
        "  threshold = np.percentile(nmi_array, percent)\n",
        "  print(\"NMI Threshold:\", threshold)\n",
        "\n",
        "  fig = plt.figure(figsize=(35, 10))\n",
        "  sns.heatmap(num_components, xticklabels=np.round(eps_values, 2), yticklabels=minPts, annot=False, fmt=\".0f\", cmap=\"viridis\")\n",
        "\n",
        "  if highlight:\n",
        "\n",
        "    for i in range(len(minPts)):\n",
        "      for j in range(len(eps_values)):\n",
        "          if  nmi_values[i][j] >= threshold:\n",
        "              plt.gca().add_patch(plt.Rectangle((j, i), 1, 1, fill=False, edgecolor='red', lw=2))\n",
        "\n",
        "  plt.xlabel('Epsilon')\n",
        "  plt.ylabel('Minimum Samples')\n",
        "  plt.title('Number of Connected Components by Epsilon and Min Samples')\n",
        "  plt.show()\n",
        "  if save:\n",
        "    fig.savefig(name)"
      ]
    },
    {
      "cell_type": "code",
      "execution_count": null,
      "metadata": {
        "id": "PtA659Vxn0hb"
      },
      "outputs": [],
      "source": [
        "def plot_heatmaps_loops(num_components, loops, nmi_values, eps_values, minPts, percent=90, highlight=False, save=False, name='loops_nmi.png'):\n",
        "  nmi_array = np.array(nmi_values)\n",
        "  threshold = np.percentile(nmi_array, percent)\n",
        "  print(\"NMI Threshold:\", threshold)\n",
        "\n",
        "  fig = plt.figure(figsize=(35, 10))\n",
        "  sns.heatmap(loops, xticklabels=np.round(eps_values, 2), yticklabels=minPts, annot=False, fmt=\".0f\", cmap=\"viridis\")\n",
        "\n",
        "  if highlight:\n",
        "\n",
        "    for i in range(len(minPts)):\n",
        "      for j in range(len(eps_values)):\n",
        "          if  nmi_values[i][j] >= threshold:\n",
        "              plt.gca().add_patch(plt.Rectangle((j, i), 1, 1, fill=False, edgecolor='red', lw=2))\n",
        "\n",
        "  plt.xlabel('Epsilon')\n",
        "  plt.ylabel('Minimum Samples')\n",
        "  plt.title('Number of Cycles by Epsilon and Min Samples')\n",
        "  plt.show()\n",
        "\n",
        "  if save:\n",
        "    fig.savefig(name)"
      ]
    },
    {
      "cell_type": "code",
      "execution_count": null,
      "metadata": {
        "id": "Mjp6nrFLmqxj"
      },
      "outputs": [],
      "source": [
        "def plot_heatmaps_connectedcomponent_true(num_components, ground_truth_clusters, eps_values, minPts, percent=90, highlight=False, save=False):\n",
        "\n",
        "  fig = plt.figure(figsize=(35, 10))\n",
        "  sns.heatmap(num_components, xticklabels=np.round(eps_values, 2), yticklabels=minPts, annot=False, fmt=\".0f\", cmap=\"viridis\")\n",
        "\n",
        "  if highlight:\n",
        "\n",
        "    for i in range(len(minPts)):\n",
        "      for j in range(len(eps_values)):\n",
        "          if  num_components[i][j] in ground_truth_clusters:\n",
        "            plt.gca().add_patch(plt.Rectangle((j, i), 1, 1, fill=False, edgecolor='red', lw=2))\n",
        "\n",
        "  plt.xlabel('Epsilon')\n",
        "  plt.ylabel('Minimum Samples')\n",
        "  plt.title('Number of Connected Components by Epsilon and Min Samples Ground True')\n",
        "  plt.show()\n",
        "\n",
        "  if save:\n",
        "    name = '/content/drive/MyDrive/Colab Notebooks/num_components_nmi.png'\n",
        "    fig.savefig(name)\n"
      ]
    },
    {
      "cell_type": "code",
      "execution_count": null,
      "metadata": {
        "id": "VwTVYXaRopu_"
      },
      "outputs": [],
      "source": [
        "def plot_heatmaps_loops_true(num_components, loops, ground_truth_clusters, eps_values, minPts, percent=90, highlight=False, save=False):\n",
        "\n",
        "  fig = plt.figure(figsize=(18, 14))\n",
        "  sns.heatmap(loops, xticklabels=np.round(eps_values, 2), yticklabels=minPts, annot=False, fmt=\".0f\", cmap=\"viridis\")\n",
        "\n",
        "  if highlight:\n",
        "\n",
        "    for i in range(len(minPts)):\n",
        "      for j in range(len(eps_values)):\n",
        "          if  num_components[i][j] in ground_truth_clusters:\n",
        "            plt.gca().add_patch(plt.Rectangle((j, i), 1, 1, fill=False, edgecolor='red', lw=2))\n",
        "\n",
        "  plt.xlabel('Epsilon')\n",
        "  plt.ylabel('Minimum Samples')\n",
        "  plt.title('Number of Connected Components by Epsilon and Min Samples Ground True')\n",
        "  plt.show()\n",
        "\n",
        "  if save:\n",
        "    name = '/content/drive/MyDrive/Colab Notebooks/num_components_nmi.png'\n",
        "    fig.savefig(name)\n"
      ]
    },
    {
      "cell_type": "code",
      "execution_count": null,
      "metadata": {
        "id": "SU0mWSybG0nY"
      },
      "outputs": [],
      "source": [
        "def read_parameters(input_file):\n",
        "    minPts = []\n",
        "    eps_values = []\n",
        "    num_components = []\n",
        "    num_loops = []\n",
        "\n",
        "    nmi_values = []\n",
        "    ami_values = []\n",
        "    ari_values = []\n",
        "\n",
        "    num_loops_norm_by_edges = []\n",
        "    num_loops_norm_by_edges_comp = []\n",
        "    graph_labels = []\n",
        "\n",
        "\n",
        "    with open(input_file, mode='r') as file:\n",
        "        reader = csv.reader(file)\n",
        "        next(reader)\n",
        "        current_minPts = None\n",
        "        row_cc = []\n",
        "        row_loops = []\n",
        "\n",
        "        row_nmi = []\n",
        "        row_ami = []\n",
        "        row_ari = []\n",
        "\n",
        "        row_num_loops_norm_by_edges = []\n",
        "        row_num_loops_norm_by_edges_comp = []\n",
        "        row_graph_labels = []\n",
        "\n",
        "        for row in reader:\n",
        "            try:\n",
        "                p = int(float(row[0]))\n",
        "                e = float(row[1])\n",
        "                cc = int(float(row[2]))\n",
        "                loops = int(float(row[3]))\n",
        "                nmi = float(row[4])\n",
        "                ami = float(row[5])\n",
        "                ari = float(row[6])\n",
        "                loops_norm_by_edges = int(float(row[7]))\n",
        "                loops_norm_by_edges_comp = int(float(row[8]))\n",
        "                gr_labels = eval(row[9])\n",
        "                #p, e, cc, loops, nmi, ami, ari, loops_norm_by_edges, loops_norm_by_edges_comp, gr_labels = int(float(row[0])), float(row[1]), int(float(row[2])), int(float(row[3])), float(row[4]), int(float(row[5])), int(float(row[6])), int(float(row[7])), int(row[8]), row[9]\n",
        "\n",
        "            except ValueError as ve:\n",
        "                print(f\"ValueError: {ve} with row {row}\")\n",
        "                continue\n",
        "\n",
        "            if p != current_minPts:\n",
        "                if current_minPts is not None:\n",
        "                    minPts.append(current_minPts)\n",
        "                    num_components.append(row_cc)\n",
        "                    num_loops.append(row_loops)\n",
        "\n",
        "                    nmi_values.append(row_nmi)\n",
        "                    ami_values.append(row_ami)\n",
        "                    ari_values.append(row_ari)\n",
        "\n",
        "                    num_loops_norm_by_edges.append(loops_norm_by_edges)\n",
        "                    num_loops_norm_by_edges_comp.append(loops_norm_by_edges_comp)\n",
        "                    graph_labels.append(row_graph_labels)\n",
        "\n",
        "                current_minPts = p\n",
        "                row_cc = []\n",
        "                row_loops = []\n",
        "                row_nmi = []\n",
        "                row_ami = []\n",
        "                row_ari = []\n",
        "                row_num_loops_norm_by_edges = []\n",
        "                row_num_loops_norm_by_edges_comp = []\n",
        "                row_graph_labels = []\n",
        "\n",
        "            row_cc.append(cc)\n",
        "            row_loops.append(loops)\n",
        "            row_nmi.append(nmi)\n",
        "            row_ami.append(ami)\n",
        "            row_ari.append(ari)\n",
        "            row_num_loops_norm_by_edges.append(loops_norm_by_edges)\n",
        "            row_num_loops_norm_by_edges_comp.append(loops_norm_by_edges_comp)\n",
        "            row_graph_labels.append(gr_labels)\n",
        "\n",
        "            if e not in eps_values:\n",
        "                eps_values.append(e)\n",
        "\n",
        "        # Append the last set of rows\n",
        "        if current_minPts is not None:\n",
        "            minPts.append(current_minPts)\n",
        "            num_components.append(row_cc)\n",
        "            num_loops.append(row_loops)\n",
        "            nmi_values.append(row_nmi)\n",
        "            ami_values.append(row_ami)\n",
        "            ari_values.append(row_ari)\n",
        "            num_loops_norm_by_edges.append(row_num_loops_norm_by_edges)\n",
        "            num_loops_norm_by_edges_comp.append(row_num_loops_norm_by_edges_comp)\n",
        "            graph_labels.append(row_graph_labels)\n",
        "\n",
        "    return minPts, eps_values, num_components, num_loops, nmi_values, ami_values, ari_values, num_loops_norm_by_edges, num_loops_norm_by_edges_comp, graph_labels"
      ]
    },
    {
      "cell_type": "code",
      "execution_count": null,
      "metadata": {
        "id": "Cq5UqbFEsTQI"
      },
      "outputs": [],
      "source": [
        "def print_parameters_specific_minPts_eps_dcgraph(X, y, minPts, eps, graph_type='dcdist', with_subgraphs=True):\n",
        "  '''graph_type one of [dcdist, mrdist, knn] '''\n",
        "  if graph_type == 'dcdist':\n",
        "    epsilon_graph = dc_graph(X, minPts, eps)\n",
        "  if graph_type == 'mrdist':\n",
        "    epsilon_graph = mutual_reachability_dist_graph(X, minPts, eps)\n",
        "  if graph_type == 'knn':\n",
        "    epsilon_graph = knn_graph(X, minPts, eps)\n",
        "\n",
        "  cc, components = cnt_connected_components(epsilon_graph)\n",
        "  print(f'Number of connected componenet: {cc}')\n",
        "\n",
        "  loops = cnt_loops(epsilon_graph)\n",
        "  print(f'Number of loops: {loops}')\n",
        "\n",
        "  compon_labels = components_labels(components, X)\n",
        "  nmi = cnt_nmi(compon_labels, y)\n",
        "  print(f'NMI: {nmi}')\n",
        "\n",
        "  ami = cnt_ami(compon_labels, y)\n",
        "  print(f'AMI: {ami}')\n",
        "\n",
        "  ari = cnt_ari(compon_labels, y)\n",
        "  print(f'ARI: {ari}')\n",
        "\n",
        "  num_edges = epsilon_graph.number_of_edges()\n",
        "  print(f'Number of edges: {num_edges}')\n",
        "\n",
        "  print(f'loops/edges: {loops/num_edges}')\n",
        "\n",
        "  component_labels = components_labels(components, X, toplot=True)\n",
        "\n",
        "  plot_eps_graph(X, epsilon_graph, component_labels)\n",
        "\n",
        "  if with_subgraphs:\n",
        "    subgraphs = [epsilon_graph.subgraph(comp).copy() for comp in components]\n",
        "    s = 0\n",
        "    for i, subgraph in enumerate(subgraphs):\n",
        "        print(f\"Component {i + 1}:\")\n",
        "\n",
        "        num_nodes = subgraph.number_of_nodes()\n",
        "        num_edges = subgraph.number_of_edges()\n",
        "        print(f\"Vertices: {num_nodes} Edges: {num_edges}\")\n",
        "\n",
        "        cycles = cnt_loops(subgraph)\n",
        "        print(\"Cycles\", cycles)\n",
        "        if cycles != 0:\n",
        "          s += cycles / num_edges\n",
        "        print(\"loops/edges:\" , cycles / num_edges)\n",
        "\n",
        "        average_degree = sum(dict(subgraph.degree()).values()) / num_nodes\n",
        "        print(f\"Average Degree: {average_degree}\")\n",
        "        max_degree = max(dict(subgraph.degree()).values())\n",
        "        print(f\"Max Degree: {max_degree}\")\n",
        "\n",
        "        mst = nx.minimum_spanning_tree(subgraph)\n",
        "        mst_diameter = nx.diameter(mst) if nx.is_connected(mst) else float('inf')\n",
        "        print(f\"MST Diameter: {mst_diameter}\")\n",
        "\n",
        "        graph_diameter = nx.diameter(subgraph) if nx.is_connected(subgraph) else float('inf')\n",
        "        print(f\"Graph Diameter: {graph_diameter}\")\n",
        "        print(\"\\n\")\n",
        "\n",
        "    print(\"sum(loops/edges):\" , s)\n"
      ]
    },
    {
      "cell_type": "code",
      "execution_count": null,
      "metadata": {
        "id": "hL7tLpSd4g0B"
      },
      "outputs": [],
      "source": [
        "def make_slices(arr, minPts, eps, eps_start, eps_end, minPts_start, minPts_end):\n",
        "  eps_indices = [i for i, val in enumerate(eps) if eps_start <= val <= eps_end]\n",
        "  minPts_indices = [i for i, val in enumerate(minPts) if minPts_start <= val <= minPts_end]\n",
        "\n",
        "  array_slice = [[row[j] for j in eps_indices] for i, row in enumerate(arr) if i in minPts_indices]\n",
        "  return array_slice"
      ]
    },
    {
      "cell_type": "code",
      "execution_count": null,
      "metadata": {
        "id": "5DEi00al7smT"
      },
      "outputs": [],
      "source": [
        "def frequency_plot(arr, lim_start=-1, lim_end=30, save=False):\n",
        "  flattened_array = list(itertools.chain.from_iterable(arr))\n",
        "  frequency_count = Counter(flattened_array)\n",
        "\n",
        "  x_values = list(frequency_count.keys())\n",
        "  y_frequencies = list(frequency_count.values())\n",
        "\n",
        "  fig, ax = plt.subplots(figsize=(10, 6))\n",
        "  ax.bar(x_values, y_frequencies, color='skyblue', alpha=1, label='Histogram')\n",
        "\n",
        "  kde = gaussian_kde(flattened_array)\n",
        "  x_grid = np.linspace(np.min(flattened_array), np.max(flattened_array), 1000)\n",
        "  kde_values = kde(x_grid)\n",
        "\n",
        "  # Plot the KDE curve\n",
        "  #ax.plot(x_grid, kde_values * len(flattened_array), color='red', lw=1 )#label='KDE Fit')\n",
        "\n",
        "  # mean and median\n",
        "  mean_value = np.mean(flattened_array)\n",
        "  median_value = np.median(flattened_array)\n",
        "  ax.axvline(mean_value, color='green', linestyle='--', lw=0.5, label=f'Mean: {mean_value:.2f}')\n",
        "  ax.axvline(median_value, color='purple', linestyle='--', lw=0.5, label=f'Median: {median_value:.2f}')\n",
        "\n",
        "  ax.set_xlabel('Values')\n",
        "  ax.set_ylabel('Frequencies')\n",
        "  #ax.set_yticks([])\n",
        "  ax.set_xlim(lim_start,lim_end)\n",
        "  ax.set_title('Frequency of Each Connected Component Value')\n",
        "  ax.legend()\n",
        "  #ax.grid(True)\n",
        "\n",
        "  plt.tight_layout()\n",
        "  plt.show()\n",
        "\n",
        "  if save:\n",
        "    fig.savefig(\"Frequency_of_connected_component.png\")\n",
        "\n",
        "  return frequency_count.most_common()"
      ]
    },
    {
      "cell_type": "code",
      "execution_count": null,
      "metadata": {
        "id": "UvdisjT8913p"
      },
      "outputs": [],
      "source": [
        "def arr_value_specific_component(arr, num_component, n_comp):\n",
        "  return arr[num_component == n_comp]"
      ]
    },
    {
      "cell_type": "code",
      "execution_count": null,
      "metadata": {
        "id": "x401nCV_-9RW"
      },
      "outputs": [],
      "source": [
        "def nmi_sort(components, nmi):\n",
        "\n",
        "  num_components_flat = np.array(components).flatten()\n",
        "  nmi_flat = np.array(nmi).flatten()\n",
        "\n",
        "  sorted_indices = np.argsort(nmi_flat)[::-1]\n",
        "  sorted_components = num_components_flat[sorted_indices]\n",
        "  unique_values, indices = np.unique(sorted_components, return_index=True)\n",
        "\n",
        "  sorted_indices = np.sort(indices)\n",
        "\n",
        "  unique_sorted_components = sorted_components[sorted_indices]\n",
        "\n",
        "  return unique_sorted_components\n"
      ]
    },
    {
      "cell_type": "code",
      "execution_count": null,
      "metadata": {
        "id": "dCj8dOmO_9xu"
      },
      "outputs": [],
      "source": [
        "def plot_cycles_relative_frequency_for_component(components, loops, unique_components, min_cycles=0, max_cycles=0, save=False, title='Cycles'):\n",
        "  components = np.array(components)\n",
        "  loops = np.array(loops)\n",
        "\n",
        "  if max_cycles == 0:\n",
        "    max_cycles = loops.max()\n",
        "  if min_cycles == 0:\n",
        "    min_cycles = loops.min()\n",
        "\n",
        "  num_bins = 30\n",
        "  bins = np.linspace(min_cycles, max_cycles, num_bins + 1)\n",
        "  num_unique_components = len(unique_components)\n",
        "\n",
        "  rows = (num_unique_components // 5) + 1\n",
        "  cols = 5\n",
        "  fig = plt.figure(figsize=(20, rows * 4))\n",
        "\n",
        "  for i, component in enumerate(unique_components):\n",
        "    plt.subplot(rows, cols, i + 1)\n",
        "\n",
        "    cycles = loops[components == component]\n",
        "    counts, _ = np.histogram(cycles, bins=bins)\n",
        "\n",
        "    relative_frequency = counts / len(cycles)\n",
        "\n",
        "    plt.bar(bins[:-1], relative_frequency, width=np.diff(bins), align='edge', alpha=0.75)\n",
        "    plt.title(f'num_components = {component}')\n",
        "    plt.xlabel('cycles')\n",
        "    plt.ylabel('Relative Frequency')\n",
        "    plt.xlim(min_cycles, max_cycles)\n",
        "    plt.ylim(0, 1)\n",
        "    plt.grid(True)\n",
        "\n",
        "  plt.tight_layout()\n",
        "  plt.show()\n",
        "\n",
        "  if save:\n",
        "    fig.savefig(title)\n"
      ]
    },
    {
      "cell_type": "code",
      "execution_count": null,
      "metadata": {
        "id": "NtNA49lnB-NX"
      },
      "outputs": [],
      "source": [
        "def plot_cycles_relative_frequency_for_cycles_value(components, loops, unique_components, min_cycles=0, max_cycles=0, save=False, title='Cycles_relative'):\n",
        "  components = np.array(components)\n",
        "  loops = np.array(loops)\n",
        "\n",
        "  if max_cycles == 0:\n",
        "    max_cycles = loops.max()\n",
        "  if min_cycles == 0:\n",
        "    min_cycles = loops.min()\n",
        "\n",
        "  num_bins = 30\n",
        "  bins = np.linspace(min_cycles, max_cycles, num_bins + 1)\n",
        "  num_unique_components = len(unique_components)\n",
        "\n",
        "  rows = (num_unique_components // 5) + 1\n",
        "  cols = 5\n",
        "  fig = plt.figure(figsize=(20, rows * 4))\n",
        "\n",
        "  max_frequency = 0\n",
        "\n",
        "  for i, component in enumerate(unique_components):\n",
        "    plt.subplot(rows, cols, i + 1)\n",
        "    cycles = loops[components == component]\n",
        "    relative_frequency = []\n",
        "\n",
        "    #относительная величина, сколько раз конкретно это число встречается вовем массиве. Т.е. его концентрация для этого\n",
        "    #конкретного компонента относительно всего массива\n",
        "    for c in cycles:\n",
        "        freq_value = len(loops[loops == c])\n",
        "        relative_frequency.append(freq_value)\n",
        "        if freq_value > max_frequency:\n",
        "            max_frequency = freq_value\n",
        "\n",
        "    counts, _ = np.histogram(cycles, bins=bins)\n",
        "\n",
        "    #plt.bar(bins[:-1], relative_frequency, width=np.diff(bins), align='edge', alpha=0.75)\n",
        "    plt.bar(bins[:-1], counts, width=np.diff(bins), align='edge', alpha=0.75)\n",
        "    plt.title(f'num_components = {component}')\n",
        "    plt.xlabel('cycles')\n",
        "    plt.ylabel('Relative Frequency')\n",
        "    plt.xlim(min_cycles, max_cycles)\n",
        "    plt.ylim(0, max_frequency)\n",
        "    plt.grid(True)\n",
        "\n",
        "  plt.tight_layout()\n",
        "  plt.show()\n",
        "  if save:\n",
        "    fig.savefig(title)\n"
      ]
    },
    {
      "cell_type": "code",
      "execution_count": null,
      "metadata": {
        "id": "mhy5Zw3PoBcZ"
      },
      "outputs": [],
      "source": [
        "def compute_nmi_per_component(components_list, num_connected_components, graph_labels):\n",
        "  results={}\n",
        "  for c in components_list:\n",
        "    array = graph_labels[num_connected_components == c]\n",
        "\n",
        "    nmi_values = []\n",
        "    ami_values = []\n",
        "    ari_values = []\n",
        "\n",
        "    if len(array) > 1 and c != 0:\n",
        "      for i in range(len(array)):\n",
        "        for j in range(i+1, len(array)):\n",
        "          nmi = normalized_mutual_info_score(array[i], array[j])\n",
        "          nmi_values.append(nmi)\n",
        "          #print(i,j,nmi)\n",
        "\n",
        "          ami = adjusted_mutual_info_score(array[i], array[j])\n",
        "          ami_values.append(ami)\n",
        "\n",
        "          ari = adjusted_rand_score(array[i], array[j])\n",
        "          ari_values.append(ari)\n",
        "\n",
        "      results[c] = {\n",
        "                'NMI': np.mean(nmi_values),\n",
        "                'AMI': np.mean(ami_values),\n",
        "                'ARI': np.mean(ari_values)\n",
        "            }\n",
        "    print(f\"Num components: {c}, NMI: {np.mean(nmi_values):.3f}, AMI: {np.mean(ami_values):.3f}, ARI: {np.mean(ari_values):.3f}\")\n",
        "\n",
        "  return results"
      ]
    },
    {
      "cell_type": "code",
      "execution_count": null,
      "metadata": {
        "id": "i3vfDBNsq0m0"
      },
      "outputs": [],
      "source": [
        "def get_top_components_by_metric(results, metric, top_n=3):\n",
        "    # Сортируем компоненты по значению метрики и выбираем топ-N\n",
        "    sorted_components = sorted(results.items(), key=lambda x: x[1][metric], reverse=True)\n",
        "\n",
        "    # Выводим топ-N результатов\n",
        "    top_components = sorted_components[:top_n]\n",
        "\n",
        "    print(f\"Top {top_n} components by {metric}:\")\n",
        "    for component, metrics in top_components:\n",
        "        print(f\"Component: {component}, {metric}: {metrics[metric]:.3f}\")\n",
        "\n",
        "    return top_components"
      ]
    },
    {
      "cell_type": "code",
      "execution_count": null,
      "metadata": {
        "id": "jKWH5xKTCF6I"
      },
      "outputs": [],
      "source": [
        "def get_minpts_eps_pairs(k, num_components, minPts, eps_values):\n",
        "  result = []\n",
        "  for i, minPt in enumerate(minPts):\n",
        "    for j, eps in enumerate(eps_values):\n",
        "      if num_components[i][j] == k:\n",
        "        result.append((minPt, eps))\n",
        "  return result"
      ]
    },
    {
      "cell_type": "code",
      "execution_count": null,
      "metadata": {
        "id": "JjHJU40PUfP7"
      },
      "outputs": [],
      "source": [
        "\n",
        "def read_dcdist_results(input_file='dcdist_results.csv'):\n",
        "    minPts = []\n",
        "    eps_values = []\n",
        "    num_connected_components = []\n",
        "    num_loops = []\n",
        "    nmi_values = []\n",
        "    ami_values = []\n",
        "    ari_values = []\n",
        "    cnt_loops_norm_by_edges = []\n",
        "    cnt_loops_norm_by_edges_comp = []\n",
        "    graph_labels = []\n",
        "\n",
        "    with open(input_file, mode='r') as file:\n",
        "        reader = csv.reader(file)\n",
        "        header = next(reader)  # Skip the header\n",
        "\n",
        "        for row in reader:\n",
        "            # Extracting the values from each row, and assuming data types as required\n",
        "            minPts.append(float(row[0]))  # Assuming `minPts` is numeric\n",
        "            eps_values.append(float(row[1]))  # Assuming `eps` is numeric\n",
        "            num_connected_components.append(float(row[2]))  # Integer for `num_connected_components`\n",
        "            num_loops.append(float(row[3]))  # Integer for `num_loops`\n",
        "            nmi_values.append(float(row[4]))  # Assuming `nmi` is a floating-point number\n",
        "            ami_values.append(float(row[5]))  # Assuming `ami` is a floating-point number\n",
        "            ari_values.append(float(row[6]))  # Assuming `ari` is a floating-point number\n",
        "            cnt_loops_norm_by_edges.append(float(row[7]))  # Assuming this is a floating-point number\n",
        "            cnt_loops_norm_by_edges_comp.append(float(row[8]))  # Assuming this is a floating-point number\n",
        "\n",
        "            # Assuming graph_labels is a list represented as a string in the CSV\n",
        "            graph_labels.append(eval(row[9]))  # Convert string representation back to list\n",
        "            #print(minPts, eps_values)\n",
        "\n",
        "    return minPts, eps_values, num_connected_components, num_loops, nmi_values, ami_values, ari_values, cnt_loops_norm_by_edges, cnt_loops_norm_by_edges_comp, graph_labels\n",
        "\n"
      ]
    },
    {
      "cell_type": "markdown",
      "metadata": {
        "id": "uxwlqgc3-YAx"
      },
      "source": [
        "# **NPA data**"
      ]
    },
    {
      "cell_type": "code",
      "execution_count": null,
      "metadata": {
        "id": "Q1nQn3GbprjJ"
      },
      "outputs": [],
      "source": [
        "file_name = 'gendata_50_15_1000_300.npy'\n",
        "X, y, n, d = read_data_npy(file_name)\n",
        "truth = len(np.unique(y))"
      ]
    },
    {
      "cell_type": "markdown",
      "metadata": {
        "id": "bDwMxy-FGs5x"
      },
      "source": [
        "#### Define minPts and eps values"
      ]
    },
    {
      "cell_type": "code",
      "execution_count": null,
      "metadata": {
        "id": "ZDUnsF_UAPpP"
      },
      "outputs": [],
      "source": [
        "minPts = def_minpts(sep=20, end=21)\n",
        "#print(len(minPts))\n",
        "#print(minPts)"
      ]
    },
    {
      "cell_type": "code",
      "execution_count": null,
      "metadata": {
        "id": "Nmg3kSI26tF8"
      },
      "outputs": [],
      "source": [
        "eps_values = def_eps(minPts)\n",
        "#print(len(eps_values))\n",
        "#print(eps_values)"
      ]
    },
    {
      "cell_type": "code",
      "execution_count": null,
      "metadata": {
        "id": "HuhfieP_qZDZ"
      },
      "outputs": [],
      "source": [
        "len(eps_values) * len(minPts)"
      ]
    },
    {
      "cell_type": "markdown",
      "metadata": {
        "id": "-g6JIguM2Z9U"
      },
      "source": [
        "#### DC dist"
      ]
    },
    {
      "cell_type": "code",
      "execution_count": null,
      "metadata": {
        "collapsed": true,
        "id": "djlO_BUn1hnv"
      },
      "outputs": [],
      "source": [
        "num_components_dc, num_loops_dc, nmi_values_dc, ami_values_dc, ari_values_dc, num_loops_norm_by_edges_dc, num_loops_norm_by_edges_comp_dc, graph_labels_dc = cnt_parameters_dcdist_graph(X, y, minPts, eps_values, 'dc_dist_parameters_50_15_1000_300_full.csv')"
      ]
    },
    {
      "cell_type": "code",
      "execution_count": null,
      "metadata": {
        "collapsed": true,
        "id": "N_ysgqmGTNr6"
      },
      "outputs": [],
      "source": [
        "plot_heatmaps_connectedcomponent(num_components_dc, nmi_values_dc, eps_values, minPts, highlight=True, save=True, name=file_name+'_component.csv')"
      ]
    },
    {
      "cell_type": "code",
      "execution_count": null,
      "metadata": {
        "id": "eq0BMPOM2iZM"
      },
      "outputs": [],
      "source": [
        "plot_heatmaps_loops(num_components_dc, num_loops_dc, nmi_values_dc, eps_values, minPts, highlight=True, save=True, name=file_name+'_loops.csv')"
      ]
    },
    {
      "cell_type": "code",
      "execution_count": null,
      "metadata": {
        "id": "1_b6rUTj2lQK"
      },
      "outputs": [],
      "source": [
        "plot_heatmaps_loops(num_components_dc, num_loops_norm_by_edges_dc, nmi_values_dc, eps_values, minPts, highlight=True, save=True, name=file_name+'_normloops.csv')\n",
        "#np.max(np.array(num_loops_norm_by_edges_dc))"
      ]
    },
    {
      "cell_type": "code",
      "execution_count": null,
      "metadata": {
        "id": "pvN2Td41jYah"
      },
      "outputs": [],
      "source": [
        "top_cycles_dc = frequency_plot(num_loops_norm_by_edges_dc, lim_start=-1, lim_end=400, save=True)\n",
        "#print(top_cycles_dc)"
      ]
    },
    {
      "cell_type": "code",
      "execution_count": null,
      "metadata": {
        "id": "m6cg2MV29Lqq"
      },
      "outputs": [],
      "source": [
        "top_dc = frequency_plot(num_components_dc, lim_start=-1, lim_end=50, save=True)\n",
        "print(top_dc)"
      ]
    },
    {
      "cell_type": "code",
      "execution_count": null,
      "metadata": {
        "id": "9qDrGSK-WaF1"
      },
      "outputs": [],
      "source": [
        "components_most_frequency_dc = [value for value, _ in top_dc]\n",
        "components_most_frequency_dc = components_most_frequency_dc[:]\n",
        "print(components_most_frequency_dc)"
      ]
    },
    {
      "cell_type": "code",
      "execution_count": null,
      "metadata": {
        "id": "HpB-NudpFdde"
      },
      "outputs": [],
      "source": [
        "unique_sorted_components_dc = nmi_sort(num_components_dc, nmi_values_dc)\n",
        "print(unique_sorted_components_dc)"
      ]
    },
    {
      "cell_type": "code",
      "execution_count": null,
      "metadata": {
        "collapsed": true,
        "id": "0Kk4qycW2uLb"
      },
      "outputs": [],
      "source": [
        "plot_cycles_relative_frequency_for_component(num_components_dc, num_loops_dc, components_most_frequency_dc, min_cycles=0, max_cycles=0, save=True, title='Cycles_dc')"
      ]
    },
    {
      "cell_type": "code",
      "execution_count": null,
      "metadata": {
        "id": "QbRRsM427ZJq"
      },
      "outputs": [],
      "source": [
        "plot_cycles_relative_frequency_for_component(num_components_dc, num_loops_norm_by_edges_dc, components_most_frequency_dc, min_cycles=0, max_cycles=0, save=True, title='Cycles_norm_dc_rel')"
      ]
    },
    {
      "cell_type": "code",
      "execution_count": null,
      "metadata": {
        "id": "WIpFvGIzicNp"
      },
      "outputs": [],
      "source": [
        "num_connected_components = np.array(num_components_dc)\n",
        "\n",
        "graph_labels = np.array(graph_labels_dc)\n",
        "\n",
        "nmi_ami_ari_dict = compute_nmi_per_component(np.unique(num_connected_components), num_connected_components, graph_labels)\n",
        "print(nmi_ami_ari_dict)"
      ]
    },
    {
      "cell_type": "code",
      "execution_count": null,
      "metadata": {
        "id": "Uey_w31Gq-X9"
      },
      "outputs": [],
      "source": [
        "top_nmi = get_top_components_by_metric(nmi_ami_ari_dict, 'NMI', top_n=5)\n",
        "top_ami = get_top_components_by_metric(nmi_ami_ari_dict, 'AMI', top_n=5)\n",
        "top_ari = get_top_components_by_metric(nmi_ami_ari_dict, 'ARI', top_n=5)"
      ]
    },
    {
      "cell_type": "code",
      "source": [
        "target_num_components = truth"
      ],
      "metadata": {
        "id": "eMg5QYjAWzS-"
      },
      "execution_count": null,
      "outputs": []
    },
    {
      "cell_type": "code",
      "execution_count": null,
      "metadata": {
        "collapsed": true,
        "id": "_PLRZkNiBz2Y"
      },
      "outputs": [],
      "source": [
        "target_num_components = 15\n",
        "result_pairs = get_minpts_eps_pairs(target_num_components, num_components_dc, minPts, eps_values)for i in result_pairs:\n",
        "print('minPts:', i[0], 'eps:', i[1])"
      ]
    }
  ],
  "metadata": {
    "colab": {
      "collapsed_sections": [
        "-_MqIfw-TcCm",
        "XUqzIRq7Ucsv",
        "VAwp69ohW6Ng",
        "qeQfa0G5f_Kd",
        "9ONBWr-jXBuk",
        "Fcq1cMz6cnEZ",
        "f4DptcEKmbPv",
        "FDbITry_Fhne",
        "UtK1LUF_gRpu"
      ],
      "machine_shape": "hm",
      "provenance": [],
      "gpuType": "V28"
    },
    "kernelspec": {
      "display_name": "Python 3",
      "name": "python3"
    },
    "language_info": {
      "codemirror_mode": {
        "name": "ipython",
        "version": 3
      },
      "file_extension": ".py",
      "mimetype": "text/x-python",
      "name": "python",
      "nbconvert_exporter": "python",
      "pygments_lexer": "ipython3",
      "version": "3.11.7"
    },
    "accelerator": "TPU"
  },
  "nbformat": 4,
  "nbformat_minor": 0
}